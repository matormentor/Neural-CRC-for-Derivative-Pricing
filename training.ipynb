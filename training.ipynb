{
 "cells": [
  {
   "cell_type": "code",
   "execution_count": 1,
   "id": "29ccf6dc",
   "metadata": {},
   "outputs": [],
   "source": [
    "import torch\n",
    "import torch.nn as nn\n",
    "import torch.optim as optim\n",
    "\n",
    "import pytorch_lightning as L\n",
    "from pytorch_lightning.callbacks import EarlyStopping, ModelCheckpoint, LearningRateMonitor, StochasticWeightAveraging\n",
    "from pytorch_lightning.tuner.tuning import Tuner\n",
    "from pytorch_lightning.loggers import TensorBoardLogger\n",
    "\n",
    "import app.training.networks as net\n",
    "\n",
    "from app.training.dataset import IVS_DataModule, DualInput_IVS_DataModule"
   ]
  },
  {
   "cell_type": "markdown",
   "id": "3f6bec6a",
   "metadata": {},
   "source": [
    "# NN1 Residual Feed Forward NN"
   ]
  },
  {
   "cell_type": "code",
   "execution_count": 2,
   "id": "ee14dbc2",
   "metadata": {},
   "outputs": [
    {
     "data": {
      "text/html": [
       "\n",
       "      <iframe id=\"tensorboard-frame-76f7a9f875eabe01\" width=\"100%\" height=\"800\" frameborder=\"0\">\n",
       "      </iframe>\n",
       "      <script>\n",
       "        (function() {\n",
       "          const frame = document.getElementById(\"tensorboard-frame-76f7a9f875eabe01\");\n",
       "          const url = new URL(\"/\", window.location);\n",
       "          const port = 6006;\n",
       "          if (port) {\n",
       "            url.port = port;\n",
       "          }\n",
       "          frame.src = url;\n",
       "        })();\n",
       "      </script>\n",
       "    "
      ],
      "text/plain": [
       "<IPython.core.display.HTML object>"
      ]
     },
     "metadata": {},
     "output_type": "display_data"
    }
   ],
   "source": [
    "%reload_ext tensorboard\n",
    "%tensorboard --logdir=lightning_logs/"
   ]
  },
  {
   "cell_type": "code",
   "execution_count": 2,
   "id": "5df9b7d9",
   "metadata": {},
   "outputs": [],
   "source": [
    "DataLoader_NN1 = IVS_DataModule()\n",
    "DataLoader_NN3 = DualInput_IVS_DataModule()"
   ]
  },
  {
   "cell_type": "markdown",
   "id": "0d0f2313",
   "metadata": {},
   "source": [
    "# Learning Rate Tuning"
   ]
  },
  {
   "cell_type": "markdown",
   "id": "c03e7b64",
   "metadata": {},
   "source": [
    "### NN1"
   ]
  },
  {
   "cell_type": "code",
   "execution_count": null,
   "id": "4a392203",
   "metadata": {},
   "outputs": [
    {
     "name": "stderr",
     "output_type": "stream",
     "text": [
      "GPU available: True (cuda), used: True\n",
      "TPU available: False, using: 0 TPU cores\n",
      "HPU available: False, using: 0 HPUs\n",
      "LOCAL_RANK: 0 - CUDA_VISIBLE_DEVICES: [0]\n",
      "c:\\Users\\USUARIO\\PycharmProjects\\MathThesis\\venv\\Lib\\site-packages\\pytorch_lightning\\trainer\\connectors\\data_connector.py:424: The 'train_dataloader' does not have many workers which may be a bottleneck. Consider increasing the value of the `num_workers` argument` to `num_workers=15` in the `DataLoader` to improve performance.\n",
      "c:\\Users\\USUARIO\\PycharmProjects\\MathThesis\\venv\\Lib\\site-packages\\pytorch_lightning\\trainer\\connectors\\data_connector.py:424: The 'val_dataloader' does not have many workers which may be a bottleneck. Consider increasing the value of the `num_workers` argument` to `num_workers=15` in the `DataLoader` to improve performance.\n"
     ]
    },
    {
     "data": {
      "application/vnd.jupyter.widget-view+json": {
       "model_id": "6e185de0b9b14512ba780a5cb862d0fa",
       "version_major": 2,
       "version_minor": 0
      },
      "text/plain": [
       "Finding best initial lr:   0%|          | 0/500 [00:00<?, ?it/s]"
      ]
     },
     "metadata": {},
     "output_type": "display_data"
    },
    {
     "name": "stderr",
     "output_type": "stream",
     "text": [
      "`Trainer.fit` stopped: `max_epochs=1` reached.\n",
      "LR finder stopped early after 420 steps due to diverging loss.\n",
      "Learning rate set to 1.2054050184530168e-05\n",
      "Restoring states from the checkpoint path at c:\\Users\\USUARIO\\PycharmProjects\\MathThesis\\.lr_find_7117a067-6ab3-4005-9358-ed6ee47565c7.ckpt\n",
      "Restored all states from the checkpoint at c:\\Users\\USUARIO\\PycharmProjects\\MathThesis\\.lr_find_7117a067-6ab3-4005-9358-ed6ee47565c7.ckpt\n"
     ]
    },
    {
     "data": {
      "image/png": "[encoded data removed]",
      "text/plain": [
       "<Figure size 640x480 with 1 Axes>"
      ]
     },
     "metadata": {},
     "output_type": "display_data"
    },
    {
     "name": "stdout",
     "output_type": "stream",
     "text": [
      "Suggested learning rate: 1.2054050184530168e-05\n"
     ]
    }
   ],
   "source": [
    "model = net.NN1Residual()\n",
    "\n",
    "# Instantiate the DataModule\n",
    "data_module = IVS_DataModule()\n",
    "\n",
    "checkpoint_callback = ModelCheckpoint(\n",
    "    monitor=\"val_loss\",\n",
    "    save_top_k=1,\n",
    "    mode=\"min\",\n",
    "    filename=\"best_model-{epoch:02d}-{val_loss:.2f}\",\n",
    "    save_weights_only=True\n",
    ")\n",
    "\n",
    "early_stopping_callback = EarlyStopping(\n",
    "    monitor=\"val_loss\",\n",
    "    patience=5,\n",
    "    mode=\"min\",\n",
    "    verbose=True\n",
    ")\n",
    "\n",
    "stochastic_weight_avg = StochasticWeightAveraging(1e-3)\n",
    "\n",
    "lr_monitor = LearningRateMonitor(logging_interval=\"epoch\")\n",
    "\n",
    "# Define a Trainer\n",
    "trainer = L.Trainer(callbacks=[early_stopping_callback, lr_monitor, stochastic_weight_avg], \n",
    "                    max_epochs=1)  # We only need one epoch for `lr_find`\n",
    "\n",
    "# Use lr_find to identify the optimal learning rate\n",
    "tuner = Tuner(trainer)\n",
    "lr_finder = tuner.lr_find(model, datamodule=data_module, max_lr=4e-3, num_training=500)\n",
    "assert lr_finder # lr_finder not NONE\n",
    "\n",
    "# Plot the learning rate finder results\n",
    "fig = lr_finder.plot(suggest=True, show=True)\n",
    "\n",
    "# Retrieve the suggested learning rate\n",
    "optimal_lr = lr_finder.suggestion()\n",
    "print(f\"Suggested learning rate: {optimal_lr}\")\n"
   ]
  },
  {
   "cell_type": "markdown",
   "id": "30309fc2",
   "metadata": {},
   "source": [
    "### NN3"
   ]
  },
  {
   "cell_type": "code",
   "execution_count": 9,
   "id": "8acb1a85",
   "metadata": {},
   "outputs": [
    {
     "name": "stderr",
     "output_type": "stream",
     "text": [
      "GPU available: True (cuda), used: True\n",
      "TPU available: False, using: 0 TPU cores\n",
      "HPU available: False, using: 0 HPUs\n",
      "LOCAL_RANK: 0 - CUDA_VISIBLE_DEVICES: [0]\n",
      "c:\\Users\\USUARIO\\PycharmProjects\\MathThesis\\venv\\Lib\\site-packages\\pytorch_lightning\\trainer\\connectors\\data_connector.py:424: The 'train_dataloader' does not have many workers which may be a bottleneck. Consider increasing the value of the `num_workers` argument` to `num_workers=15` in the `DataLoader` to improve performance.\n",
      "c:\\Users\\USUARIO\\PycharmProjects\\MathThesis\\venv\\Lib\\site-packages\\pytorch_lightning\\trainer\\connectors\\data_connector.py:424: The 'val_dataloader' does not have many workers which may be a bottleneck. Consider increasing the value of the `num_workers` argument` to `num_workers=15` in the `DataLoader` to improve performance.\n"
     ]
    },
    {
     "data": {
      "application/vnd.jupyter.widget-view+json": {
       "model_id": "a6a81bbe27304bed9a213089cbf328cb",
       "version_major": 2,
       "version_minor": 0
      },
      "text/plain": [
       "Finding best initial lr:   0%|          | 0/1000 [00:00<?, ?it/s]"
      ]
     },
     "metadata": {},
     "output_type": "display_data"
    },
    {
     "name": "stderr",
     "output_type": "stream",
     "text": [
      "`Trainer.fit` stopped: `max_epochs=1` reached.\n",
      "LR finder stopped early after 420 steps due to diverging loss.\n",
      "Learning rate set to 0.003819442708400466\n",
      "Restoring states from the checkpoint path at c:\\Users\\USUARIO\\PycharmProjects\\MathThesis\\.lr_find_0dce1ff9-e5b1-4813-a952-9aac918057e7.ckpt\n",
      "Restored all states from the checkpoint at c:\\Users\\USUARIO\\PycharmProjects\\MathThesis\\.lr_find_0dce1ff9-e5b1-4813-a952-9aac918057e7.ckpt\n"
     ]
    },
    {
     "data": {
      "image/png": "[encoded data removed]",
      "text/plain": [
       "<Figure size 640x480 with 1 Axes>"
      ]
     },
     "metadata": {},
     "output_type": "display_data"
    },
    {
     "name": "stdout",
     "output_type": "stream",
     "text": [
      "Suggested learning rate: 0.003819442708400466\n"
     ]
    }
   ],
   "source": [
    "from torch.utils.tensorboard.writer import SummaryWriter\n",
    "\n",
    "writer = SummaryWriter()\n",
    "\n",
    "nn1 = net.NN1Residual.load_from_checkpoint(\"lightning_logs\\\\version_33\\\\checkpoints\\\\best_model-epoch=141-val_loss=0.00.ckpt\")\n",
    "nn2 = net.NN2()\n",
    "model = net.NN3(nn1=nn1, nn2=nn2)\n",
    "\n",
    "checkpoint_callback = ModelCheckpoint(\n",
    "    monitor=\"val_loss\",\n",
    "    save_top_k=1,\n",
    "    mode=\"min\",\n",
    "    filename=\"best_model-{epoch:02d}-{val_loss:.2f}\",\n",
    "    save_weights_only=True\n",
    ")\n",
    "\n",
    "early_stopping_callback = EarlyStopping(\n",
    "    monitor=\"val_loss\",\n",
    "    patience=5,\n",
    "    mode=\"min\",\n",
    "    verbose=True\n",
    ")\n",
    "\n",
    "stochastic_weight_avg = StochasticWeightAveraging(1e-3)\n",
    "\n",
    "lr_monitor = LearningRateMonitor(logging_interval=\"epoch\")\n",
    "\n",
    "# Define a Trainer\n",
    "trainer = L.Trainer(callbacks=[early_stopping_callback, lr_monitor, stochastic_weight_avg], \n",
    "                    max_epochs=1)  # We only need one epoch for `lr_find`\n",
    "\n",
    "DataLoader_NN3.prepare_data()\n",
    "DataLoader_NN3.setup()\n",
    "\n",
    "sample_input1, sample_input2, _ = DataLoader_NN3.dataset[0]  # Extract inputs\n",
    "sample_input1 = sample_input1.unsqueeze(0)  # Add batch dimension\n",
    "sample_input2 = sample_input2.unsqueeze(0)\n",
    "# writer.add_graph(model, (sample_input1, sample_input2))\n",
    "\n",
    "# # Use lr_find to identify the optimal learning rate\n",
    "tuner = Tuner(trainer)\n",
    "lr_finder = tuner.lr_find(model, datamodule=DataLoader_NN3, min_lr=1e-3, max_lr=1, num_training=1000)\n",
    "assert lr_finder # lr_finder not NONE\n",
    "\n",
    "# Plot the learning rate finder results\n",
    "fig = lr_finder.plot(suggest=True, show=True)\n",
    "\n",
    "# Retrieve the suggested learning rate\n",
    "optimal_lr = lr_finder.suggestion()\n",
    "print(f\"Suggested learning rate: {optimal_lr}\")"
   ]
  },
  {
   "cell_type": "markdown",
   "id": "504c5dc9",
   "metadata": {},
   "source": [
    "# Training NN1"
   ]
  },
  {
   "cell_type": "markdown",
   "id": "63cf8f8b",
   "metadata": {},
   "source": [
    "### SetUp Loggers"
   ]
  },
  {
   "cell_type": "code",
   "execution_count": 3,
   "id": "0a4f14db",
   "metadata": {},
   "outputs": [],
   "source": [
    "# Logger for Model 1\n",
    "logger_nn1 = TensorBoardLogger(\n",
    "    save_dir=\"lightning_logs\",\n",
    "    name=\"nn1\",\n",
    ")\n",
    "\n",
    "# Logger for Model 2\n",
    "logger_nn3 = TensorBoardLogger(\n",
    "    save_dir=\"lightning_logs\",\n",
    "    name=\"nn3\",\n",
    ")"
   ]
  },
  {
   "cell_type": "markdown",
   "id": "5b1d07d6",
   "metadata": {},
   "source": [
    "### Callbacks"
   ]
  },
  {
   "cell_type": "code",
   "execution_count": 5,
   "id": "178c6fb7",
   "metadata": {},
   "outputs": [],
   "source": [
    "checkpoint_callback = ModelCheckpoint(\n",
    "    monitor=\"val_loss\",\n",
    "    save_top_k=1,\n",
    "    mode=\"min\",\n",
    "    filename=\"best_model-{epoch:02d}-{val_loss:.2f}\",\n",
    "    save_weights_only=True\n",
    ")\n",
    "\n",
    "early_stopping_callback = EarlyStopping(\n",
    "    monitor=\"val_loss\",\n",
    "    patience=20,\n",
    "    mode=\"min\",\n",
    "    check_on_train_epoch_end=True,\n",
    "    verbose=True\n",
    ")\n",
    "\n",
    "stochastic_weight_avg = StochasticWeightAveraging(1e-3)\n",
    "\n",
    "lr_monitor = LearningRateMonitor(logging_interval=\"epoch\")"
   ]
  },
  {
   "cell_type": "markdown",
   "id": "12d94797",
   "metadata": {},
   "source": [
    "### Training"
   ]
  },
  {
   "cell_type": "markdown",
   "id": "485f60e1",
   "metadata": {},
   "source": [
    "##### NN1"
   ]
  },
  {
   "cell_type": "code",
   "execution_count": null,
   "id": "1a8e3c16",
   "metadata": {},
   "outputs": [
    {
     "name": "stderr",
     "output_type": "stream",
     "text": [
      "GPU available: True (cuda), used: True\n",
      "TPU available: False, using: 0 TPU cores\n",
      "HPU available: False, using: 0 HPUs\n"
     ]
    }
   ],
   "source": [
    "nn1 = net.NN1Residual(lr=1.2e-05)\n",
    "\n",
    "trainer = L.Trainer(accelerator='gpu', \n",
    "                    callbacks=[early_stopping_callback, checkpoint_callback, lr_monitor, stochastic_weight_avg], \n",
    "                    max_epochs=200)\n",
    "\n",
    "trainer.fit(nn1, DataLoader_NN1)"
   ]
  },
  {
   "cell_type": "markdown",
   "id": "50f1be87",
   "metadata": {},
   "source": [
    "##### NN3"
   ]
  },
  {
   "cell_type": "code",
   "execution_count": 8,
   "id": "6dad8e18",
   "metadata": {},
   "outputs": [
    {
     "name": "stderr",
     "output_type": "stream",
     "text": [
      "GPU available: True (cuda), used: True\n",
      "TPU available: False, using: 0 TPU cores\n",
      "HPU available: False, using: 0 HPUs\n"
     ]
    },
    {
     "name": "stdout",
     "output_type": "stream",
     "text": [
      "Checking if NN1 is not trainable\n",
      "Check Passed\n"
     ]
    }
   ],
   "source": [
    "model = net.NN1Residual.load_from_checkpoint(\"lightning_logs\\\\version_33\\\\checkpoints\\\\best_model-epoch=141-val_loss=0.00.ckpt\")\n",
    "nn3_lr = 0.003819442708400466\n",
    "nn3 = net.NN3(model, net.NN2(lr=nn3_lr), lr=nn3_lr)\n",
    "\n",
    "# Assure that nn1 is not trainable\n",
    "print(\"Checking if NN1 is not trainable\")\n",
    "for name, param in nn3.nn1.named_parameters():\n",
    "    # print(f\"{name}: requires_grad={param.requires_grad}\")\n",
    "    assert param.requires_grad == False, f\"Parameters in NN1 module {name} shant be trainable\"\n",
    "print(\"Check Passed\")\n",
    "    \n",
    "\n",
    "trainer = L.Trainer(logger=logger_nn3,\n",
    "                    accelerator='gpu', \n",
    "                    callbacks=[early_stopping_callback, checkpoint_callback, lr_monitor, stochastic_weight_avg], \n",
    "                    max_epochs=200)\n",
    "\n",
    "trainer.fit(nn3, DataLoader_NN3)"
   ]
  },
  {
   "cell_type": "markdown",
   "id": "19cdc9f0",
   "metadata": {},
   "source": [
    "# Testing NN1"
   ]
  },
  {
   "cell_type": "code",
   "execution_count": 14,
   "id": "dd2ff678",
   "metadata": {},
   "outputs": [
    {
     "data": {
      "text/plain": [
       "{'input_dim': 41, 'hidden_dim': 1024, 'output_dim': 130, 'lr': 1.2e-05}"
      ]
     },
     "execution_count": 14,
     "metadata": {},
     "output_type": "execute_result"
    }
   ],
   "source": [
    "model = net.NN1Residual.load_from_checkpoint(\"lightning_logs\\\\version_33\\\\checkpoints\\\\best_model-epoch=141-val_loss=0.00.ckpt\")\n",
    "checkpoint = torch.load(\"lightning_logs\\\\version_33\\\\checkpoints\\\\best_model-epoch=141-val_loss=0.00.ckpt\", map_location=lambda storage, loc: storage, weights_only=False)\n",
    "checkpoint['hyper_parameters']"
   ]
  },
  {
   "cell_type": "code",
   "execution_count": null,
   "id": "cec39e85",
   "metadata": {},
   "outputs": [
    {
     "name": "stderr",
     "output_type": "stream",
     "text": [
      "LOCAL_RANK: 0 - CUDA_VISIBLE_DEVICES: [0]\n",
      "c:\\Users\\USUARIO\\PycharmProjects\\MathThesis\\venv\\Lib\\site-packages\\pytorch_lightning\\trainer\\connectors\\data_connector.py:424: The 'test_dataloader' does not have many workers which may be a bottleneck. Consider increasing the value of the `num_workers` argument` to `num_workers=15` in the `DataLoader` to improve performance.\n"
     ]
    },
    {
     "data": {
      "application/vnd.jupyter.widget-view+json": {
       "model_id": "3da8aeb5d0b34e3dba3965ed6ca5ec6c",
       "version_major": 2,
       "version_minor": 0
      },
      "text/plain": [
       "Testing: |          | 0/? [00:00<?, ?it/s]"
      ]
     },
     "metadata": {},
     "output_type": "display_data"
    },
    {
     "name": "stdout",
     "output_type": "stream",
     "text": [
      "────────────────────────────────────────────────────────────────────────────────────────────────────────────────────────\n",
      "       Test metric             DataLoader 0\n",
      "────────────────────────────────────────────────────────────────────────────────────────────────────────────────────────\n",
      " adj_test_r2_score_epoch    0.9184309244155884\n",
      "        test_loss         0.00029913688194938004\n",
      "────────────────────────────────────────────────────────────────────────────────────────────────────────────────────────\n"
     ]
    },
    {
     "data": {
      "text/plain": [
       "[{'test_loss': 0.00029913688194938004,\n",
       "  'adj_test_r2_score_epoch': 0.9184309244155884}]"
      ]
     },
     "execution_count": 15,
     "metadata": {},
     "output_type": "execute_result"
    }
   ],
   "source": [
    "trainer.test(model, DataLoader_NN1)"
   ]
  },
  {
   "cell_type": "code",
   "execution_count": 12,
   "id": "3bee8e45",
   "metadata": {},
   "outputs": [
    {
     "data": {
      "text/plain": [
       "odict_keys(['nn1.input_head.0.weight', 'nn1.input_head.0.bias', 'nn1.hidden_residual_block.0.weight', 'nn1.hidden_residual_block.0.bias', 'nn1.hidden_residual_block.2.weight', 'nn1.hidden_residual_block.2.bias', 'nn1.hidden_residual_block.4.weight', 'nn1.hidden_residual_block.4.bias', 'nn1.hidden_residual_block.6.weight', 'nn1.hidden_residual_block.6.bias', 'nn1.output_layer.weight', 'nn1.output_layer.bias', 'nn2.input_head.0.weight', 'nn2.input_head.0.bias', 'nn2.input_head.1.weight', 'nn2.input_head.1.bias', 'nn2.input_head.1.running_mean', 'nn2.input_head.1.running_var', 'nn2.input_head.1.num_batches_tracked', 'nn2.hidden_residual_block.0.weight', 'nn2.hidden_residual_block.0.bias', 'nn2.hidden_residual_block.1.weight', 'nn2.hidden_residual_block.1.bias', 'nn2.hidden_residual_block.1.running_mean', 'nn2.hidden_residual_block.1.running_var', 'nn2.hidden_residual_block.1.num_batches_tracked', 'nn2.hidden_residual_block.3.weight', 'nn2.hidden_residual_block.3.bias', 'nn2.hidden_residual_block.4.weight', 'nn2.hidden_residual_block.4.bias', 'nn2.hidden_residual_block.4.running_mean', 'nn2.hidden_residual_block.4.running_var', 'nn2.hidden_residual_block.4.num_batches_tracked', 'nn2.hidden_residual_block.6.weight', 'nn2.hidden_residual_block.6.bias', 'nn2.hidden_residual_block.7.weight', 'nn2.hidden_residual_block.7.bias', 'nn2.hidden_residual_block.7.running_mean', 'nn2.hidden_residual_block.7.running_var', 'nn2.hidden_residual_block.7.num_batches_tracked', 'nn2.hidden_residual_block.9.weight', 'nn2.hidden_residual_block.9.bias', 'nn2.hidden_residual_block.10.weight', 'nn2.hidden_residual_block.10.bias', 'nn2.hidden_residual_block.10.running_mean', 'nn2.hidden_residual_block.10.running_var', 'nn2.hidden_residual_block.10.num_batches_tracked', 'nn2.output_layer1.weight', 'nn2.output_layer1.bias', 'nn2.batch_norm2.weight', 'nn2.batch_norm2.bias', 'nn2.batch_norm2.running_mean', 'nn2.batch_norm2.running_var', 'nn2.batch_norm2.num_batches_tracked', 'nn2.nu_layer.0.weight', 'nn2.nu_layer.0.bias', 'nn2.delta_layer.0.weight', 'nn2.delta_layer.0.bias'])"
      ]
     },
     "execution_count": 12,
     "metadata": {},
     "output_type": "execute_result"
    }
   ],
   "source": [
    "nn3 = net.NN3.load_from_checkpoint(\"lightning_logs\\\\nn3\\\\version_3\\\\checkpoints\\\\best_model-epoch=22-val_loss=0.00.ckpt\", nn1=net.NN1Residual(), nn2=net.NN2())\n",
    "checkpoint = torch.load(\"lightning_logs\\\\nn3\\\\version_3\\\\checkpoints\\\\best_model-epoch=22-val_loss=0.00.ckpt\", map_location=lambda storage, loc: storage, weights_only=False)\n",
    "checkpoint[\"state_dict\"].keys()"
   ]
  },
  {
   "cell_type": "code",
   "execution_count": null,
   "id": "b81ddab9",
   "metadata": {},
   "outputs": [],
   "source": [
    "nn3.nn2"
   ]
  },
  {
   "cell_type": "code",
   "execution_count": 10,
   "id": "28d44753",
   "metadata": {},
   "outputs": [
    {
     "name": "stderr",
     "output_type": "stream",
     "text": [
      "LOCAL_RANK: 0 - CUDA_VISIBLE_DEVICES: [0]\n",
      "c:\\Users\\USUARIO\\PycharmProjects\\MathThesis\\venv\\Lib\\site-packages\\pytorch_lightning\\trainer\\connectors\\data_connector.py:424: The 'test_dataloader' does not have many workers which may be a bottleneck. Consider increasing the value of the `num_workers` argument` to `num_workers=15` in the `DataLoader` to improve performance.\n"
     ]
    },
    {
     "data": {
      "application/vnd.jupyter.widget-view+json": {
       "model_id": "5c07ab2cfefa424b85db149df563f9eb",
       "version_major": 2,
       "version_minor": 0
      },
      "text/plain": [
       "Testing: |          | 0/? [00:00<?, ?it/s]"
      ]
     },
     "metadata": {},
     "output_type": "display_data"
    },
    {
     "name": "stdout",
     "output_type": "stream",
     "text": [
      "────────────────────────────────────────────────────────────────────────────────────────────────────────────────────────\n",
      "       Test metric             DataLoader 0\n",
      "────────────────────────────────────────────────────────────────────────────────────────────────────────────────────────\n",
      " adj_test_r2_score_epoch     0.616227388381958\n",
      "   nn3_test_loss_epoch     0.0013556694611907005\n",
      "────────────────────────────────────────────────────────────────────────────────────────────────────────────────────────\n"
     ]
    },
    {
     "data": {
      "text/plain": [
       "[{'nn3_test_loss_epoch': 0.0013556694611907005,\n",
       "  'adj_test_r2_score_epoch': 0.616227388381958}]"
      ]
     },
     "execution_count": 10,
     "metadata": {},
     "output_type": "execute_result"
    }
   ],
   "source": [
    "trainer.test(nn3, DataLoader_NN3)"
   ]
  }
 ],
 "metadata": {
  "kernelspec": {
   "display_name": "venv",
   "language": "python",
   "name": "python3"
  },
  "language_info": {
   "codemirror_mode": {
    "name": "ipython",
    "version": 3
   },
   "file_extension": ".py",
   "mimetype": "text/x-python",
   "name": "python",
   "nbconvert_exporter": "python",
   "pygments_lexer": "ipython3",
   "version": "3.11.5"
  }
 },
 "nbformat": 4,
 "nbformat_minor": 5
}
